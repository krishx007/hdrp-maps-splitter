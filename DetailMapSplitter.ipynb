{
 "cells": [
  {
   "cell_type": "code",
   "execution_count": 1,
   "metadata": {},
   "outputs": [],
   "source": [
    "from PIL import Image, ImageEnhance\n",
    "from tkinter import Tk, filedialog\n",
    "import os\n",
    "\n",
    "albedoBrightnessMultiplier = 1\n",
    "normalMultiplier = 1"
   ]
  },
  {
   "cell_type": "code",
   "execution_count": 2,
   "metadata": {},
   "outputs": [],
   "source": [
    "root = Tk()\n",
    "root.withdraw()\n",
    "root.call('wm','attributes','.','-topmost', True)\n",
    "infiles = filedialog.askopenfilename(multiple=True)"
   ]
  },
  {
   "cell_type": "code",
   "execution_count": 3,
   "metadata": {},
   "outputs": [
    {
     "name": "stdout",
     "output_type": "stream",
     "text": [
      "Opening: DeadTrunk_Tile01_Detail\n",
      "TIFF (1024, 1024) RGBX\n",
      "Opening: DeadTrunk_Tile02_Detail\n",
      "TIFF (1024, 1024) RGBX\n",
      "Opening: ScotsPine_Peeled_Detail\n",
      "TIFF (512, 512) RGBX\n"
     ]
    }
   ],
   "source": [
    "for file in infiles:\n",
    "    # Getting path and file names.\n",
    "    name = os.path.splitext(os.path.basename(file))[0]\n",
    "    dirPath = os.path.dirname(os.path.abspath(file))\n",
    "    print(\"Opening: \" + name)\n",
    "    \n",
    "    # Opening image.\n",
    "    detailMap = Image.open(file)\n",
    "    print(detailMap.format, detailMap.size, detailMap.mode)\n",
    "    \n",
    "    # Splitting channels\n",
    "    r,g,b,x = detailMap.split()\n",
    "    black = Image.new(\"L\", detailMap.size)\n",
    "    white = Image.new(\"L\", detailMap.size, (255))\n",
    "    \n",
    "    # Converting channels into maps.\n",
    "    detailAlbedo = r.convert(\"L\")\n",
    "    detailAlbedo = ImageEnhance.Brightness(detailAlbedo).enhance(albedoBrightnessMultiplier)\n",
    "    detailAlbedo.save(os.path.join(dirPath, name + \"_Albedo.tif\"), \"TIFF\")\n",
    "    \n",
    "    detailAlbedoNormal = Image.merge(\"RGB\", (ImageEnhance.Brightness(x).enhance(normalMultiplier), ImageEnhance.Brightness(g).enhance(normalMultiplier), white))\n",
    "    detailAlbedoNormal.save(os.path.join(dirPath,name + \"_Normal.tif\"), \"TIFF\")"
   ]
  },
  {
   "cell_type": "code",
   "execution_count": null,
   "metadata": {},
   "outputs": [],
   "source": []
  }
 ],
 "metadata": {
  "kernelspec": {
   "display_name": "Python 3",
   "language": "python",
   "name": "python3"
  },
  "language_info": {
   "codemirror_mode": {
    "name": "ipython",
    "version": 3
   },
   "file_extension": ".py",
   "mimetype": "text/x-python",
   "name": "python",
   "nbconvert_exporter": "python",
   "pygments_lexer": "ipython3",
   "version": "3.6.5"
  }
 },
 "nbformat": 4,
 "nbformat_minor": 2
}
