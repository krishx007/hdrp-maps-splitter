{
 "cells": [
  {
   "cell_type": "code",
   "execution_count": 1,
   "metadata": {},
   "outputs": [],
   "source": [
    "from PIL import Image, ImageEnhance\n",
    "from tkinter import Tk, filedialog\n",
    "import os"
   ]
  },
  {
   "cell_type": "code",
   "execution_count": 8,
   "metadata": {},
   "outputs": [],
   "source": [
    "root = Tk()\n",
    "root.withdraw()\n",
    "root.call('wm','attributes','.','-topmost', True)\n",
    "infiles = filedialog.askopenfilename(multiple=True)"
   ]
  },
  {
   "cell_type": "code",
   "execution_count": 9,
   "metadata": {},
   "outputs": [
    {
     "name": "stdout",
     "output_type": "stream",
     "text": [
      "Opening: ScatteredStones_rmsih0p_MaskMap\n",
      "TIFF (2048, 2048) RGBX\n"
     ]
    }
   ],
   "source": [
    "for file in infiles:\n",
    "    # Getting file and path names.\n",
    "    name = os.path.splitext(os.path.basename(file))[0]\n",
    "    dirPath = os.path.dirname(os.path.abspath(file))\n",
    "    print(\"Opening: \" + name)\n",
    "    \n",
    "    # Opening image.\n",
    "    maskMap = Image.open(file)\n",
    "    print(maskMap.format, maskMap.size, maskMap.mode)\n",
    "    \n",
    "    # Splitting channels\n",
    "    r,g,b,x = maskMap.split()\n",
    "    \n",
    "    # Converting channels into maps.\n",
    "    metallness = r.convert(\"L\")\n",
    "    metallness.save(os.path.join(dirPath, name + \"_Metallic.tif\"), \"TIFF\")\n",
    "    \n",
    "    ao = g.convert(\"L\")\n",
    "    ao.save(os.path.join(dirPath,name + \"_AO.tif\"), \"TIFF\")\n",
    "    \n",
    "    detailMaskMap = b.convert(\"L\")\n",
    "    detailMaskMap.save(os.path.join(dirPath,name + \"_DetailMaskMap.tif\"), \"TIFF\")\n",
    "    \n",
    "    smoothness = x.convert(\"L\")\n",
    "    smoothness.save(os.path.join(dirPath,name + \"_Smoothness.tif\"), \"TIFF\")"
   ]
  },
  {
   "cell_type": "code",
   "execution_count": null,
   "metadata": {},
   "outputs": [],
   "source": []
  }
 ],
 "metadata": {
  "kernelspec": {
   "display_name": "Python 3",
   "language": "python",
   "name": "python3"
  },
  "language_info": {
   "codemirror_mode": {
    "name": "ipython",
    "version": 3
   },
   "file_extension": ".py",
   "mimetype": "text/x-python",
   "name": "python",
   "nbconvert_exporter": "python",
   "pygments_lexer": "ipython3",
   "version": "3.6.5"
  }
 },
 "nbformat": 4,
 "nbformat_minor": 2
}
